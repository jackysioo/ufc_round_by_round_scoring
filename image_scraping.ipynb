{
 "cells": [
  {
   "cell_type": "code",
   "execution_count": 3,
   "id": "6d178597-93d7-4def-bbc3-021d7263dea0",
   "metadata": {},
   "outputs": [],
   "source": [
    "import pandas as pd\n",
    "import ssl\n",
    "ssl._create_default_https_context = ssl._create_unverified_context\n",
    "import requests\n",
    "from bs4 import BeautifulSoup"
   ]
  },
  {
   "cell_type": "code",
   "execution_count": 4,
   "id": "f59ec2b7-00ff-4dd7-8935-22f817f84e36",
   "metadata": {},
   "outputs": [],
   "source": [
    "# images_url = f\"https://www.ufc.com/news/official-judges-scorecards-ufc-286-edwards-vs-usman-3\"\n",
    "images_url = \"https://dmxg5wxfqgb4u.cloudfront.net/styles/inline/s3/2023-03/Screen%20Shot%202023-03-18%20at%2010.02.11%20AM.png?itok=1HJSuout\"\n",
    "img_data = requests.get(images_url).content \n",
    "\n",
    "with open('netflix.jpg', 'wb') as handler: \n",
    "\n",
    "       handler.write(img_data) "
   ]
  },
  {
   "cell_type": "code",
   "execution_count": 6,
   "id": "02c7902b-f7d6-4ad7-b2fe-b74c687251e7",
   "metadata": {},
   "outputs": [
    {
     "name": "stdout",
     "output_type": "stream",
     "text": [
      "<class 'bytes'>\n"
     ]
    }
   ],
   "source": [
    "print(type(img_data))"
   ]
  },
  {
   "cell_type": "code",
   "execution_count": null,
   "id": "255fc807-558f-4e9e-bf98-506fae5f497e",
   "metadata": {},
   "outputs": [],
   "source": []
  },
  {
   "cell_type": "code",
   "execution_count": null,
   "id": "b4388f13-caed-4544-8d9e-51508487d95f",
   "metadata": {},
   "outputs": [],
   "source": []
  }
 ],
 "metadata": {
  "kernelspec": {
   "display_name": "Python 3",
   "language": "python",
   "name": "python3"
  },
  "language_info": {
   "codemirror_mode": {
    "name": "ipython",
    "version": 3
   },
   "file_extension": ".py",
   "mimetype": "text/x-python",
   "name": "python",
   "nbconvert_exporter": "python",
   "pygments_lexer": "ipython3",
   "version": "3.8.8"
  }
 },
 "nbformat": 4,
 "nbformat_minor": 5
}
