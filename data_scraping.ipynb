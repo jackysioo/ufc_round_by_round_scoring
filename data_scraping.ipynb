{
 "cells": [
  {
   "cell_type": "code",
   "execution_count": 64,
   "id": "ee621b11-2549-4a7f-961c-49201524fcfe",
   "metadata": {},
   "outputs": [],
   "source": [
    "import pandas as pd\n",
    "pd.set_option('display.max_rows', None)\n",
    "pd.set_option('display.max_columns', None)"
   ]
  },
  {
   "cell_type": "code",
   "execution_count": 54,
   "id": "bab23780-bc7e-40cf-9ddf-f7ed4a6d3189",
   "metadata": {},
   "outputs": [],
   "source": [
    "url = \"http://mmadecisions.com/decision/14086/Jared-Cannonier-vs-Marvin-Vettori\""
   ]
  },
  {
   "cell_type": "code",
   "execution_count": 55,
   "id": "eddcc282-b80f-45b6-a576-cea0ac0fcda7",
   "metadata": {},
   "outputs": [],
   "source": [
    "tables = pd.read_html(url)"
   ]
  },
  {
   "cell_type": "code",
   "execution_count": 17,
   "id": "c30c0102",
   "metadata": {},
   "outputs": [
    {
     "data": {
      "text/html": [
       "<div>\n",
       "<style scoped>\n",
       "    .dataframe tbody tr th:only-of-type {\n",
       "        vertical-align: middle;\n",
       "    }\n",
       "\n",
       "    .dataframe tbody tr th {\n",
       "        vertical-align: top;\n",
       "    }\n",
       "\n",
       "    .dataframe thead th {\n",
       "        text-align: right;\n",
       "    }\n",
       "</style>\n",
       "<table border=\"1\" class=\"dataframe\">\n",
       "  <thead>\n",
       "    <tr style=\"text-align: right;\">\n",
       "      <th></th>\n",
       "      <th>0</th>\n",
       "      <th>1</th>\n",
       "      <th>2</th>\n",
       "    </tr>\n",
       "  </thead>\n",
       "  <tbody>\n",
       "    <tr>\n",
       "      <th>0</th>\n",
       "      <td>Eric ColÃ³n</td>\n",
       "      <td>Eric ColÃ³n</td>\n",
       "      <td>Eric ColÃ³n</td>\n",
       "    </tr>\n",
       "    <tr>\n",
       "      <th>1</th>\n",
       "      <td>ROUND</td>\n",
       "      <td>Burns</td>\n",
       "      <td>Masvidal</td>\n",
       "    </tr>\n",
       "    <tr>\n",
       "      <th>2</th>\n",
       "      <td>1</td>\n",
       "      <td>9</td>\n",
       "      <td>10</td>\n",
       "    </tr>\n",
       "    <tr>\n",
       "      <th>3</th>\n",
       "      <td>2</td>\n",
       "      <td>10</td>\n",
       "      <td>9</td>\n",
       "    </tr>\n",
       "    <tr>\n",
       "      <th>4</th>\n",
       "      <td>3</td>\n",
       "      <td>10</td>\n",
       "      <td>9</td>\n",
       "    </tr>\n",
       "    <tr>\n",
       "      <th>5</th>\n",
       "      <td>TOTAL</td>\n",
       "      <td>29</td>\n",
       "      <td>28</td>\n",
       "    </tr>\n",
       "  </tbody>\n",
       "</table>\n",
       "</div>"
      ],
      "text/plain": [
       "             0            1            2\n",
       "0  Eric ColÃ³n  Eric ColÃ³n  Eric ColÃ³n\n",
       "1        ROUND        Burns     Masvidal\n",
       "2            1            9           10\n",
       "3            2           10            9\n",
       "4            3           10            9\n",
       "5        TOTAL           29           28"
      ]
     },
     "execution_count": 17,
     "metadata": {},
     "output_type": "execute_result"
    }
   ],
   "source": [
    "tables[6]\n"
   ]
  },
  {
   "cell_type": "code",
   "execution_count": 56,
   "id": "76e88307",
   "metadata": {},
   "outputs": [],
   "source": [
    "labeled_fight_tables = {}\n",
    "labeled_fight_tables['Score Card 1'] = tables[6]\n",
    "labeled_fight_tables['Score Card 2'] = tables[7]\n",
    "labeled_fight_tables['Score Card 3'] = tables[8]"
   ]
  },
  {
   "cell_type": "code",
   "execution_count": 57,
   "id": "dea91e36",
   "metadata": {},
   "outputs": [
    {
     "name": "stdout",
     "output_type": "stream",
     "text": [
      "{'Score Card 1':               0             1             2\n",
      "0  Michael Bell  Michael Bell  Michael Bell\n",
      "1         ROUND     Cannonier       Vettori\n",
      "2             1             9            10\n",
      "3             2            10             8\n",
      "4             3            10             9\n",
      "5             4            10             9\n",
      "6             5            10             9\n",
      "7         TOTAL            49            45, 'Score Card 2':                0              1              2\n",
      "0  Ben Cartlidge  Ben Cartlidge  Ben Cartlidge\n",
      "1          ROUND      Cannonier        Vettori\n",
      "2              1              9             10\n",
      "3              2             10              8\n",
      "4              3             10              9\n",
      "5              4             10              9\n",
      "6              5             10              9\n",
      "7          TOTAL             49             45, 'Score Card 3':              0            1            2\n",
      "0  Sal D'Amato  Sal D'Amato  Sal D'Amato\n",
      "1        ROUND    Cannonier      Vettori\n",
      "2            1            9           10\n",
      "3            2           10            8\n",
      "4            3           10            9\n",
      "5            4            9           10\n",
      "6            5           10            9\n",
      "7        TOTAL           48           46}\n"
     ]
    }
   ],
   "source": [
    "print(labeled_fight_tables)"
   ]
  },
  {
   "cell_type": "code",
   "execution_count": 71,
   "id": "33673392",
   "metadata": {},
   "outputs": [],
   "source": [
    "def create_aggregated_round_by_round_score_card_table(labeled_fight_tables):\n",
    "    full_fight_scorecards_table = []\n",
    "    winner = \"0\"\n",
    "    loser = \"1\"\n",
    "    for n in range(1, 4):\n",
    "        tables = []\n",
    "        for i, row in labeled_fight_tables[f\"Score Card {n}\"].iterrows():\n",
    "            if i < 2:\n",
    "                continue\n",
    "            # Get df of one round\n",
    "            df = pd.DataFrame(row)\n",
    "            # get remove the first row\n",
    "            values = list(df[i].to_dict().values())\n",
    "            values.pop(0)\n",
    "            my_list = [f\"SC {n}\", f\"SC {n}\"]\n",
    "            cols = list(my_list)\n",
    "            df = pd.DataFrame([values], columns=cols)\n",
    "\n",
    "            # Update columns with round number\n",
    "            new_cols = [f\"Round {i-1} {c}\" if c != \"Fighter\" else c for c in cols]\n",
    "            # winner is the first fighter, set the add fighter number to column names\n",
    "            new_columns = []\n",
    "            new_columns.append(f\"Fighter {winner} {new_cols[0]}\")\n",
    "            new_columns.append(f\"Fighter {loser} {new_cols[1]}\")\n",
    "\n",
    "            new_cols = new_columns\n",
    "            df.columns = new_cols\n",
    "\n",
    "            tables.append(df)\n",
    "        new_cols = [f\"Fighter {winner} SC {n} Total\", f\"Fighter {loser} SC {n} Total\"]\n",
    "        tables[-1].columns = new_cols\n",
    "\n",
    "        totals_df = pd.concat(tables, axis=1)\n",
    "        totals_df = totals_df.loc[:,~totals_df.columns.duplicated()]\n",
    "\n",
    "        full_fight_scorecards_table.append(totals_df)\n",
    "    full_fight_scorecards_table = pd.concat(full_fight_scorecards_table, axis=1)\n",
    "    full_fight_scorecards_table = full_fight_scorecards_table.loc[:,~full_fight_scorecards_table.columns.duplicated()]\n",
    "    print(\"##########################################################################################\")\n",
    "    print(full_fight_scorecards_table)\n",
    "    return full_fight_scorecards_table"
   ]
  },
  {
   "cell_type": "code",
   "execution_count": 72,
   "id": "27ab4e67",
   "metadata": {},
   "outputs": [
    {
     "name": "stdout",
     "output_type": "stream",
     "text": [
      "##########################################################################################\n",
      "  Fighter 0 Round 1 SC 1 Fighter 1 Round 1 SC 1 Fighter 0 Round 2 SC 1  \\\n",
      "0                      9                     10                     10   \n",
      "\n",
      "  Fighter 1 Round 2 SC 1 Fighter 0 Round 3 SC 1 Fighter 1 Round 3 SC 1  \\\n",
      "0                      8                     10                      9   \n",
      "\n",
      "  Fighter 0 Round 4 SC 1 Fighter 1 Round 4 SC 1 Fighter 0 Round 5 SC 1  \\\n",
      "0                     10                      9                     10   \n",
      "\n",
      "  Fighter 1 Round 5 SC 1 Fighter 0 SC 1 Total Fighter 1 SC 1 Total  \\\n",
      "0                      9                   49                   45   \n",
      "\n",
      "  Fighter 0 Round 1 SC 2 Fighter 1 Round 1 SC 2 Fighter 0 Round 2 SC 2  \\\n",
      "0                      9                     10                     10   \n",
      "\n",
      "  Fighter 1 Round 2 SC 2 Fighter 0 Round 3 SC 2 Fighter 1 Round 3 SC 2  \\\n",
      "0                      8                     10                      9   \n",
      "\n",
      "  Fighter 0 Round 4 SC 2 Fighter 1 Round 4 SC 2 Fighter 0 Round 5 SC 2  \\\n",
      "0                     10                      9                     10   \n",
      "\n",
      "  Fighter 1 Round 5 SC 2 Fighter 0 SC 2 Total Fighter 1 SC 2 Total  \\\n",
      "0                      9                   49                   45   \n",
      "\n",
      "  Fighter 0 Round 1 SC 3 Fighter 1 Round 1 SC 3 Fighter 0 Round 2 SC 3  \\\n",
      "0                      9                     10                     10   \n",
      "\n",
      "  Fighter 1 Round 2 SC 3 Fighter 0 Round 3 SC 3 Fighter 1 Round 3 SC 3  \\\n",
      "0                      8                     10                      9   \n",
      "\n",
      "  Fighter 0 Round 4 SC 3 Fighter 1 Round 4 SC 3 Fighter 0 Round 5 SC 3  \\\n",
      "0                      9                     10                     10   \n",
      "\n",
      "  Fighter 1 Round 5 SC 3 Fighter 0 SC 3 Total Fighter 1 SC 3 Total  \n",
      "0                      9                   48                   46  \n"
     ]
    }
   ],
   "source": [
    "tables = create_aggregated_round_by_round_score_card_table(labeled_fight_tables)"
   ]
  },
  {
   "cell_type": "code",
   "execution_count": 73,
   "id": "469cc291-bf07-49c4-9bd9-67abef618349",
   "metadata": {},
   "outputs": [],
   "source": [
    "from IPython.display import display"
   ]
  },
  {
   "cell_type": "code",
   "execution_count": 74,
   "id": "5cd09a22",
   "metadata": {},
   "outputs": [
    {
     "data": {
      "text/html": [
       "<div>\n",
       "<style scoped>\n",
       "    .dataframe tbody tr th:only-of-type {\n",
       "        vertical-align: middle;\n",
       "    }\n",
       "\n",
       "    .dataframe tbody tr th {\n",
       "        vertical-align: top;\n",
       "    }\n",
       "\n",
       "    .dataframe thead th {\n",
       "        text-align: right;\n",
       "    }\n",
       "</style>\n",
       "<table border=\"1\" class=\"dataframe\">\n",
       "  <thead>\n",
       "    <tr style=\"text-align: right;\">\n",
       "      <th></th>\n",
       "      <th>Fighter 0 Round 1 SC 1</th>\n",
       "      <th>Fighter 1 Round 1 SC 1</th>\n",
       "      <th>Fighter 0 Round 2 SC 1</th>\n",
       "      <th>Fighter 1 Round 2 SC 1</th>\n",
       "      <th>Fighter 0 Round 3 SC 1</th>\n",
       "      <th>Fighter 1 Round 3 SC 1</th>\n",
       "      <th>Fighter 0 Round 4 SC 1</th>\n",
       "      <th>Fighter 1 Round 4 SC 1</th>\n",
       "      <th>Fighter 0 Round 5 SC 1</th>\n",
       "      <th>Fighter 1 Round 5 SC 1</th>\n",
       "      <th>Fighter 0 SC 1 Total</th>\n",
       "      <th>Fighter 1 SC 1 Total</th>\n",
       "      <th>Fighter 0 Round 1 SC 2</th>\n",
       "      <th>Fighter 1 Round 1 SC 2</th>\n",
       "      <th>Fighter 0 Round 2 SC 2</th>\n",
       "      <th>Fighter 1 Round 2 SC 2</th>\n",
       "      <th>Fighter 0 Round 3 SC 2</th>\n",
       "      <th>Fighter 1 Round 3 SC 2</th>\n",
       "      <th>Fighter 0 Round 4 SC 2</th>\n",
       "      <th>Fighter 1 Round 4 SC 2</th>\n",
       "      <th>Fighter 0 Round 5 SC 2</th>\n",
       "      <th>Fighter 1 Round 5 SC 2</th>\n",
       "      <th>Fighter 0 SC 2 Total</th>\n",
       "      <th>Fighter 1 SC 2 Total</th>\n",
       "      <th>Fighter 0 Round 1 SC 3</th>\n",
       "      <th>Fighter 1 Round 1 SC 3</th>\n",
       "      <th>Fighter 0 Round 2 SC 3</th>\n",
       "      <th>Fighter 1 Round 2 SC 3</th>\n",
       "      <th>Fighter 0 Round 3 SC 3</th>\n",
       "      <th>Fighter 1 Round 3 SC 3</th>\n",
       "      <th>Fighter 0 Round 4 SC 3</th>\n",
       "      <th>Fighter 1 Round 4 SC 3</th>\n",
       "      <th>Fighter 0 Round 5 SC 3</th>\n",
       "      <th>Fighter 1 Round 5 SC 3</th>\n",
       "      <th>Fighter 0 SC 3 Total</th>\n",
       "      <th>Fighter 1 SC 3 Total</th>\n",
       "    </tr>\n",
       "  </thead>\n",
       "  <tbody>\n",
       "    <tr>\n",
       "      <th>0</th>\n",
       "      <td>9</td>\n",
       "      <td>10</td>\n",
       "      <td>10</td>\n",
       "      <td>8</td>\n",
       "      <td>10</td>\n",
       "      <td>9</td>\n",
       "      <td>10</td>\n",
       "      <td>9</td>\n",
       "      <td>10</td>\n",
       "      <td>9</td>\n",
       "      <td>49</td>\n",
       "      <td>45</td>\n",
       "      <td>9</td>\n",
       "      <td>10</td>\n",
       "      <td>10</td>\n",
       "      <td>8</td>\n",
       "      <td>10</td>\n",
       "      <td>9</td>\n",
       "      <td>10</td>\n",
       "      <td>9</td>\n",
       "      <td>10</td>\n",
       "      <td>9</td>\n",
       "      <td>49</td>\n",
       "      <td>45</td>\n",
       "      <td>9</td>\n",
       "      <td>10</td>\n",
       "      <td>10</td>\n",
       "      <td>8</td>\n",
       "      <td>10</td>\n",
       "      <td>9</td>\n",
       "      <td>9</td>\n",
       "      <td>10</td>\n",
       "      <td>10</td>\n",
       "      <td>9</td>\n",
       "      <td>48</td>\n",
       "      <td>46</td>\n",
       "    </tr>\n",
       "  </tbody>\n",
       "</table>\n",
       "</div>"
      ],
      "text/plain": [
       "  Fighter 0 Round 1 SC 1 Fighter 1 Round 1 SC 1 Fighter 0 Round 2 SC 1  \\\n",
       "0                      9                     10                     10   \n",
       "\n",
       "  Fighter 1 Round 2 SC 1 Fighter 0 Round 3 SC 1 Fighter 1 Round 3 SC 1  \\\n",
       "0                      8                     10                      9   \n",
       "\n",
       "  Fighter 0 Round 4 SC 1 Fighter 1 Round 4 SC 1 Fighter 0 Round 5 SC 1  \\\n",
       "0                     10                      9                     10   \n",
       "\n",
       "  Fighter 1 Round 5 SC 1 Fighter 0 SC 1 Total Fighter 1 SC 1 Total  \\\n",
       "0                      9                   49                   45   \n",
       "\n",
       "  Fighter 0 Round 1 SC 2 Fighter 1 Round 1 SC 2 Fighter 0 Round 2 SC 2  \\\n",
       "0                      9                     10                     10   \n",
       "\n",
       "  Fighter 1 Round 2 SC 2 Fighter 0 Round 3 SC 2 Fighter 1 Round 3 SC 2  \\\n",
       "0                      8                     10                      9   \n",
       "\n",
       "  Fighter 0 Round 4 SC 2 Fighter 1 Round 4 SC 2 Fighter 0 Round 5 SC 2  \\\n",
       "0                     10                      9                     10   \n",
       "\n",
       "  Fighter 1 Round 5 SC 2 Fighter 0 SC 2 Total Fighter 1 SC 2 Total  \\\n",
       "0                      9                   49                   45   \n",
       "\n",
       "  Fighter 0 Round 1 SC 3 Fighter 1 Round 1 SC 3 Fighter 0 Round 2 SC 3  \\\n",
       "0                      9                     10                     10   \n",
       "\n",
       "  Fighter 1 Round 2 SC 3 Fighter 0 Round 3 SC 3 Fighter 1 Round 3 SC 3  \\\n",
       "0                      8                     10                      9   \n",
       "\n",
       "  Fighter 0 Round 4 SC 3 Fighter 1 Round 4 SC 3 Fighter 0 Round 5 SC 3  \\\n",
       "0                      9                     10                     10   \n",
       "\n",
       "  Fighter 1 Round 5 SC 3 Fighter 0 SC 3 Total Fighter 1 SC 3 Total  \n",
       "0                      9                   48                   46  "
      ]
     },
     "metadata": {},
     "output_type": "display_data"
    }
   ],
   "source": [
    "display(tables)"
   ]
  },
  {
   "cell_type": "code",
   "execution_count": null,
   "id": "257969dd-0072-4eba-bfb6-b46016544cd0",
   "metadata": {},
   "outputs": [],
   "source": [
    "table = tables[6].iloc[1:,0:]"
   ]
  },
  {
   "cell_type": "code",
   "execution_count": null,
   "id": "7b2aa213-779d-4c46-a189-6e5ccab0b74b",
   "metadata": {},
   "outputs": [],
   "source": [
    "print(table)"
   ]
  },
  {
   "cell_type": "code",
   "execution_count": null,
   "id": "e1bc6870-7d52-4c86-972d-36e7b2f3a83b",
   "metadata": {},
   "outputs": [],
   "source": [
    "scores = table.iloc[1:, 1:]"
   ]
  },
  {
   "cell_type": "code",
   "execution_count": null,
   "id": "f645a631-bd07-489e-8802-fb5f71269f82",
   "metadata": {},
   "outputs": [],
   "source": [
    "scores"
   ]
  },
  {
   "cell_type": "code",
   "execution_count": null,
   "id": "e27e9117-8a86-41df-9713-b900e1c72f8c",
   "metadata": {},
   "outputs": [],
   "source": [
    "scores = scores.values.tolist()"
   ]
  },
  {
   "cell_type": "code",
   "execution_count": null,
   "id": "16a9f9e7-2970-4591-b583-30dccc840910",
   "metadata": {},
   "outputs": [],
   "source": [
    "scores"
   ]
  },
  {
   "cell_type": "code",
   "execution_count": null,
   "id": "4a5eac0d-d426-417a-be26-6a38c1f36180",
   "metadata": {},
   "outputs": [],
   "source": [
    "score_vector = [score for round_scores in scores for score in round_scores]"
   ]
  },
  {
   "cell_type": "code",
   "execution_count": null,
   "id": "fa20a442-3a1c-4b63-9ca7-f841545fbc0d",
   "metadata": {},
   "outputs": [],
   "source": [
    "score_vector"
   ]
  },
  {
   "cell_type": "code",
   "execution_count": null,
   "id": "1665364e-5158-47c4-bf0a-379c2ff6aabc",
   "metadata": {},
   "outputs": [],
   "source": [
    "v = table.unstack().to_frame().sort_index(level=1).T\n"
   ]
  },
  {
   "cell_type": "code",
   "execution_count": null,
   "id": "c141b3d6-4975-4d51-98df-b102093f691f",
   "metadata": {},
   "outputs": [],
   "source": [
    "v"
   ]
  },
  {
   "cell_type": "code",
   "execution_count": null,
   "id": "79fef1a1-6160-4ace-a41e-8445c0eadd51",
   "metadata": {},
   "outputs": [],
   "source": [
    "v.columns = v.columns.map(lambda x: '_'.join(str(i) for i in x))"
   ]
  },
  {
   "cell_type": "code",
   "execution_count": null,
   "id": "3c74740c-d26f-420f-8bfd-e6a9ee031c80",
   "metadata": {
    "tags": []
   },
   "outputs": [],
   "source": [
    "v"
   ]
  },
  {
   "cell_type": "code",
   "execution_count": null,
   "id": "69f14ba5-0f50-4d04-b5fe-4927f4001611",
   "metadata": {},
   "outputs": [],
   "source": [
    "display(tables[8])"
   ]
  },
  {
   "cell_type": "raw",
   "id": "3908d554-3eb3-4c68-8bd4-5c7c5fa7b57b",
   "metadata": {},
   "source": []
  },
  {
   "cell_type": "code",
   "execution_count": null,
   "id": "dfe9e967-581e-4091-bd74-f228f5b632df",
   "metadata": {},
   "outputs": [],
   "source": []
  },
  {
   "cell_type": "code",
   "execution_count": null,
   "id": "64209f37-c176-45dd-9ae6-f4ffdf2b070d",
   "metadata": {
    "tags": []
   },
   "outputs": [],
   "source": [
    "\n"
   ]
  },
  {
   "cell_type": "code",
   "execution_count": null,
   "id": "f7150793-b488-437c-acfa-378ef73a6935",
   "metadata": {},
   "outputs": [],
   "source": []
  },
  {
   "cell_type": "code",
   "execution_count": null,
   "id": "08ecf649-14aa-4ed4-9b22-49830119c337",
   "metadata": {},
   "outputs": [],
   "source": []
  },
  {
   "cell_type": "raw",
   "id": "5675dc11-2088-462f-a921-b0b75ce45d5a",
   "metadata": {},
   "source": []
  },
  {
   "cell_type": "code",
   "execution_count": null,
   "id": "e5ea1803-0ad9-4686-b517-58036b9800ed",
   "metadata": {},
   "outputs": [],
   "source": []
  },
  {
   "cell_type": "code",
   "execution_count": null,
   "id": "2b07adbf-7151-4131-839f-12565e4834e3",
   "metadata": {},
   "outputs": [],
   "source": []
  }
 ],
 "metadata": {
  "kernelspec": {
   "display_name": "Python 3",
   "language": "python",
   "name": "python3"
  },
  "language_info": {
   "codemirror_mode": {
    "name": "ipython",
    "version": 3
   },
   "file_extension": ".py",
   "mimetype": "text/x-python",
   "name": "python",
   "nbconvert_exporter": "python",
   "pygments_lexer": "ipython3",
   "version": "3.8.8"
  }
 },
 "nbformat": 4,
 "nbformat_minor": 5
}
